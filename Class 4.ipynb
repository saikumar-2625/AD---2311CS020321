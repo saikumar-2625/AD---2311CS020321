{
 "cells": [
  {
   "cell_type": "code",
   "execution_count": null,
   "id": "77a4d84e-a902-42fd-aa93-7c50a8461072",
   "metadata": {},
   "outputs": [],
   "source": [
    "import numpy as np "
   ]
  },
  {
   "cell_type": "code",
   "execution_count": 1,
   "id": "a71df6cd-3c0c-4418-8edf-5296b39f4947",
   "metadata": {},
   "outputs": [],
   "source": [
    "j=[4,6,2,8,9]"
   ]
  },
  {
   "cell_type": "code",
   "execution_count": null,
   "id": "d90088e1-53c7-48e6-93a9-ec8c1c780f2f",
   "metadata": {},
   "outputs": [],
   "source": [
    "1) numpy           array operations \n",
    "2) pands           Data manipulation and analysis\n",
    "3) matiplotlib     Graphical Analysis\n",
    "4) sklearn         machine learning algorithms and techinques\n",
    "5) statsmodels     statistical analysis\n",
    "6) scipy           staristical analysis"
   ]
  },
  {
   "cell_type": "code",
   "execution_count": 3,
   "id": "e6736507-7edd-4222-b590-1e2f9a39c162",
   "metadata": {},
   "outputs": [],
   "source": [
    "import numpy as np "
   ]
  },
  {
   "cell_type": "code",
   "execution_count": 5,
   "id": "4c39c5fe-f020-46e0-9f93-555363ade840",
   "metadata": {},
   "outputs": [
    {
     "data": {
      "text/plain": [
       "[5, 7, 2, 8, 4, 7]"
      ]
     },
     "execution_count": 5,
     "metadata": {},
     "output_type": "execute_result"
    }
   ],
   "source": [
    "j=[5,7,2,8,4,7]\n",
    "j"
   ]
  },
  {
   "cell_type": "code",
   "execution_count": 7,
   "id": "fdd69846-d469-481b-a5a0-aa542ee0fdd2",
   "metadata": {},
   "outputs": [
    {
     "data": {
      "text/plain": [
       "array([5, 7, 2, 8, 4, 7])"
      ]
     },
     "execution_count": 7,
     "metadata": {},
     "output_type": "execute_result"
    }
   ],
   "source": [
    "d=np.array(j)\n",
    "d"
   ]
  },
  {
   "cell_type": "code",
   "execution_count": 9,
   "id": "dc155480-b370-4850-b33b-092f288e5cfd",
   "metadata": {},
   "outputs": [
    {
     "data": {
      "text/plain": [
       "numpy.ndarray"
      ]
     },
     "execution_count": 9,
     "metadata": {},
     "output_type": "execute_result"
    }
   ],
   "source": [
    "type(d)"
   ]
  },
  {
   "cell_type": "code",
   "execution_count": 13,
   "id": "78d8a89d-3aad-4f1e-8c08-7e41e83f5855",
   "metadata": {},
   "outputs": [
    {
     "data": {
      "text/plain": [
       "(5, 7, 2, 8, 4, 7)"
      ]
     },
     "execution_count": 13,
     "metadata": {},
     "output_type": "execute_result"
    }
   ],
   "source": [
    "tuple(j)"
   ]
  },
  {
   "cell_type": "code",
   "execution_count": 15,
   "id": "f187c07f-93f7-4b28-b05f-6b4ca7587106",
   "metadata": {},
   "outputs": [
    {
     "data": {
      "text/plain": [
       "(6,)"
      ]
     },
     "execution_count": 15,
     "metadata": {},
     "output_type": "execute_result"
    }
   ],
   "source": [
    "d.shape"
   ]
  },
  {
   "cell_type": "code",
   "execution_count": 17,
   "id": "8c3ec56e-4d0a-405b-b05f-31fb134cc8c1",
   "metadata": {},
   "outputs": [
    {
     "data": {
      "text/plain": [
       "1"
      ]
     },
     "execution_count": 17,
     "metadata": {},
     "output_type": "execute_result"
    }
   ],
   "source": [
    "d.ndim"
   ]
  },
  {
   "cell_type": "code",
   "execution_count": 19,
   "id": "3815c31e-85fa-4926-93a4-69027c9e3420",
   "metadata": {},
   "outputs": [
    {
     "data": {
      "text/plain": [
       "6"
      ]
     },
     "execution_count": 19,
     "metadata": {},
     "output_type": "execute_result"
    }
   ],
   "source": [
    "d.size"
   ]
  },
  {
   "cell_type": "code",
   "execution_count": 29,
   "id": "6a11c759-b356-4ed2-9eeb-c760db75866a",
   "metadata": {},
   "outputs": [
    {
     "data": {
      "text/plain": [
       "[-5, -6, -7, -8, -9]"
      ]
     },
     "execution_count": 29,
     "metadata": {},
     "output_type": "execute_result"
    }
   ],
   "source": [
    "list(range(-5,-10,-1))"
   ]
  },
  {
   "cell_type": "code",
   "execution_count": 31,
   "id": "8fc42514-67ce-46d3-9e01-accb82b29316",
   "metadata": {},
   "outputs": [
    {
     "data": {
      "text/plain": [
       "[10, 8, 6, 4, 2, 0, -2, -4, -6, -8]"
      ]
     },
     "execution_count": 31,
     "metadata": {},
     "output_type": "execute_result"
    }
   ],
   "source": [
    "list(range(10,-10,-2))"
   ]
  },
  {
   "cell_type": "code",
   "execution_count": 33,
   "id": "fd559a82-299c-4b35-ace0-6b48c75ba9b5",
   "metadata": {},
   "outputs": [
    {
     "data": {
      "text/plain": [
       "array([5, 6, 7, 8, 9])"
      ]
     },
     "execution_count": 33,
     "metadata": {},
     "output_type": "execute_result"
    }
   ],
   "source": [
    "np.arange(5,10,1)"
   ]
  },
  {
   "cell_type": "code",
   "execution_count": 41,
   "id": "6ccde689-a18b-4ad7-abbe-6290bf9b899d",
   "metadata": {},
   "outputs": [
    {
     "name": "stdout",
     "output_type": "stream",
     "text": [
      "Data 5\n",
      "Data 10\n",
      "Data 15\n",
      "Data 20\n",
      "Data 25\n",
      "Data 30\n",
      "Data 35\n",
      "Data 40\n",
      "Data 45\n"
     ]
    }
   ],
   "source": [
    "for i in range(5,50,5):\n",
    "    print('Data',i)"
   ]
  },
  {
   "cell_type": "code",
   "execution_count": 43,
   "id": "e0386c68-0cd4-42cd-9b2a-70a189342b26",
   "metadata": {},
   "outputs": [
    {
     "data": {
      "text/plain": [
       "[5, 87, 23, 46, 62, 84, 80, 45, 77, 33, 80]"
      ]
     },
     "execution_count": 43,
     "metadata": {},
     "output_type": "execute_result"
    }
   ],
   "source": [
    "j=[5,87,23,46,62,84,80,45,77,33,80]\n",
    "j"
   ]
  },
  {
   "cell_type": "code",
   "execution_count": null,
   "id": "fee85848-39c6-40a5-8221-d653f56b0fdd",
   "metadata": {},
   "outputs": [],
   "source": [
    "y=[]\n",
    "x=[]\n",
    "for i in range(len(j)):\n",
    "    if i%2==0:\n",
    "        x,append(j[i])\n",
    "    else:\n",
    "        y.append(j[i])"
   ]
  },
  {
   "cell_type": "code",
   "execution_count": 51,
   "id": "2f36124a-874d-4f14-b9f1-56cc10da8808",
   "metadata": {},
   "outputs": [
    {
     "name": "stdout",
     "output_type": "stream",
     "text": [
      "5\n",
      "87\n",
      "23\n",
      "46\n",
      "62\n",
      "84\n",
      "80\n",
      "45\n",
      "77\n",
      "33\n",
      "80\n"
     ]
    }
   ],
   "source": [
    "for i in j:\n",
    "    print(i)"
   ]
  },
  {
   "cell_type": "code",
   "execution_count": null,
   "id": "5f499b74-5842-4f23-8a9f-1bcc09fb31f3",
   "metadata": {},
   "outputs": [],
   "source": []
  },
  {
   "cell_type": "code",
   "execution_count": null,
   "id": "b853b17c-b2a5-4057-995e-92ef79145c12",
   "metadata": {},
   "outputs": [],
   "source": []
  }
 ],
 "metadata": {
  "kernelspec": {
   "display_name": "Python [conda env:base] *",
   "language": "python",
   "name": "conda-base-py"
  },
  "language_info": {
   "codemirror_mode": {
    "name": "ipython",
    "version": 3
   },
   "file_extension": ".py",
   "mimetype": "text/x-python",
   "name": "python",
   "nbconvert_exporter": "python",
   "pygments_lexer": "ipython3",
   "version": "3.12.7"
  }
 },
 "nbformat": 4,
 "nbformat_minor": 5
}
