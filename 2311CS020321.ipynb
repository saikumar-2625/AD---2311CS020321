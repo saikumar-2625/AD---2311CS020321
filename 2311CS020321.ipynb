{
 "cells": [
  {
   "cell_type": "code",
   "execution_count": 1,
   "id": "7569cdcb-2694-48cc-9b50-548a8d03814a",
   "metadata": {},
   "outputs": [
    {
     "name": "stdout",
     "output_type": "stream",
     "text": [
      "Variable Values and Their Types:\n",
      "Integer: 10, Type: <class 'int'>\n",
      "Float: 20.5, Type: <class 'float'>\n",
      "String: 'Hello, Jupyter!', Type: <class 'str'>\n",
      "Boolean: True, Type: <class 'bool'>\n"
     ]
    }
   ],
   "source": [
    "my_integer = 10          \n",
    "my_float = 20.5          \n",
    "my_string = \"Hello, Jupyter!\"\n",
    "my_boolean = True      \n",
    "\n",
    "\n",
    "print(\"Variable Values and Their Types:\")\n",
    "print(f\"Integer: {my_integer}, Type: {type(my_integer)}\")\n",
    "print(f\"Float: {my_float}, Type: {type(my_float)}\")\n",
    "print(f\"String: '{my_string}', Type: {type(my_string)}\")\n",
    "print(f\"Boolean: {my_boolean}, Type: {type(my_boolean)}\")\n"
   ]
  },
  {
   "cell_type": "code",
   "execution_count": 9,
   "id": "e5b5298c-8ea8-4970-8bd3-990b2cd4f884",
   "metadata": {},
   "outputs": [
    {
     "name": "stdout",
     "output_type": "stream",
     "text": [
      "blue\n",
      "yellow\n",
      "['red', 'blue', 'cyan', 'yellow', 'purple']\n",
      "['cyan', 'yellow', 'purple']\n"
     ]
    }
   ],
   "source": [
    "# DAY-2\n",
    "# List\n",
    "colors = [\"red\", \"blue\", \"green\", \"yellow\", \"purple\"]\n",
    "print(colors[1])  \n",
    "print(colors[3])  \n",
    "colors[2] = \"cyan\"\n",
    "print(colors)  \n",
    "print(colors[2:])"
   ]
  },
  {
   "cell_type": "code",
   "execution_count": 11,
   "id": "ede897a7-394f-49f2-9eb6-75596c7acb49",
   "metadata": {},
   "outputs": [
    {
     "name": "stdout",
     "output_type": "stream",
     "text": [
      "Alice\n",
      "Photography\n",
      "25\n",
      "name: Alice\n",
      "age: 25\n",
      "city: New York\n",
      "profession: Engineer\n",
      "hobby: Photography\n"
     ]
    }
   ],
   "source": [
    "#DAY-2\n",
    "# Dictionary\n",
    "person = {\n",
    "    \"name\": \"Alice\",\n",
    "    \"age\": 25,\n",
    "    \"city\": \"New York\",\n",
    "    \"profession\": \"Engineer\",\n",
    "    \"hobby\": \"Photography\"\n",
    "}\n",
    "\n",
    "print(person[\"name\"])  \n",
    "print(person[\"hobby\"])  \n",
    "print(person.get(\"age\"))  \n",
    "for key, value in person.items():\n",
    "    print(f\"{key}: {value}\")\n"
   ]
  },
  {
   "cell_type": "code",
   "execution_count": 13,
   "id": "3fd60566-2bb2-4543-9708-2bf928d6b17b",
   "metadata": {},
   "outputs": [
    {
     "name": "stdout",
     "output_type": "stream",
     "text": [
      "lion\n",
      "zebra\n",
      "('tiger', 'elephant', 'giraffe')\n"
     ]
    }
   ],
   "source": [
    "#DAY-2\n",
    "# tuple\n",
    "animals = (\"lion\", \"tiger\", \"elephant\", \"giraffe\", \"zebra\")\n",
    "print(animals[0])  \n",
    "print(animals[-1])  \n",
    "print(animals[1:4])"
   ]
  },
  {
   "cell_type": "code",
   "execution_count": 17,
   "id": "932a2db9-5c3d-4851-a289-f3ac7c7219f8",
   "metadata": {},
   "outputs": [
    {
     "name": "stdin",
     "output_type": "stream",
     "text": [
      "Enter marks for Subject 1:  82\n",
      "Enter marks for Subject 2:  80\n",
      "Enter marks for Subject 3:  75\n"
     ]
    },
    {
     "name": "stdout",
     "output_type": "stream",
     "text": [
      "Grade: C\n"
     ]
    }
   ],
   "source": [
    "# Day 3\n",
    "a = float(input(\"Enter marks for Subject 1: \"))\n",
    "b = float(input(\"Enter marks for Subject 2: \"))\n",
    "c = float(input(\"Enter marks for Subject 3: \"))\n",
    "\n",
    "avg = (a + b + c) / 3\n",
    "\n",
    "if avg >= 90:\n",
    "    result = \"A\"\n",
    "elif 80 <= avg < 90:\n",
    "    result = \"B\"\n",
    "elif 70 <= avg < 80:\n",
    "    result = \"C\"\n",
    "else:\n",
    "    result = \"Fail\"\n",
    "\n",
    "print(f\"Grade: {result}\")  "
   ]
  },
  {
   "cell_type": "code",
   "execution_count": 35,
   "id": "a8ba0879-72b5-4feb-80f1-0adea1bd02eb",
   "metadata": {},
   "outputs": [
    {
     "data": {
      "text/plain": [
       "{101: 4, 102: 7, 'B': 2}"
      ]
     },
     "execution_count": 35,
     "metadata": {},
     "output_type": "execute_result"
    }
   ],
   "source": [
    "d={101:4,102:7,'B':2}\n",
    "d"
   ]
  },
  {
   "cell_type": "code",
   "execution_count": 1,
   "id": "d8230a26-35c7-462f-8f1f-214f395e55f8",
   "metadata": {},
   "outputs": [
    {
     "name": "stdin",
     "output_type": "stream",
     "text": [
      "Enter a positive integer:  3\n"
     ]
    },
    {
     "name": "stdout",
     "output_type": "stream",
     "text": [
      "The sum of all even numbers between 1 and 3 is: 2\n"
     ]
    }
   ],
   "source": [
    "# Day 4\n",
    "def sum_of_even_numbers(n):\n",
    "    if n < 1:\n",
    "        return 0\n",
    "    total = 0\n",
    "    for num in range(2, n + 1, 2):\n",
    "        total += num\n",
    "   \n",
    "    return total\n",
    "try:\n",
    "    n = int(input(\"Enter a positive integer: \"))\n",
    "    if n < 1:\n",
    "        print(\"Please enter a positive integer greater than 0.\")\n",
    "    else:\n",
    "        result = sum_of_even_numbers(n)\n",
    "        print(f\"The sum of all even numbers between 1 and {n} is: {result}\")\n",
    "except ValueError:\n",
    "    print(\"Invalid input! Please enter a positive integer.\")\n"
   ]
  },
  {
   "cell_type": "code",
   "execution_count": 5,
   "id": "c18f0bad-4ec2-4632-9c9b-965fafb08794",
   "metadata": {},
   "outputs": [
    {
     "name": "stdin",
     "output_type": "stream",
     "text": [
      "Enter a positive integer:  6\n"
     ]
    },
    {
     "name": "stdout",
     "output_type": "stream",
     "text": [
      "Numbers from 1 to 6 :\n",
      "1\n",
      "2\n",
      "3\n",
      "4\n",
      "5\n",
      "6\n",
      "The sum of numbers from 1 to 6 is: 21\n"
     ]
    }
   ],
   "source": [
    "#Day 5\n",
    "# 1\n",
    "n = int(input(\"Enter a positive integer: \"))\n",
    "if n <= 0:\n",
    "    print(\"Please enter a positive integer greater than 0.\")\n",
    "else:\n",
    "    print(\"Numbers from 1 to\", n, \":\")\n",
    "    for i in range(1, n + 1):\n",
    "        print(i)\n",
    "    total_sum = 0\n",
    "    count = 1\n",
    "    while count <= n:\n",
    "        total_sum += count\n",
    "        count += 1\n",
    "\n",
    "    print(\"The sum of numbers from 1 to\", n, \"is:\", total_sum)\n"
   ]
  },
  {
   "cell_type": "code",
   "execution_count": 7,
   "id": "3130cca1-f9a0-4366-a7a3-e04100c76d5e",
   "metadata": {},
   "outputs": [
    {
     "name": "stdin",
     "output_type": "stream",
     "text": [
      "Enter a positive integer:  5\n"
     ]
    },
    {
     "name": "stdout",
     "output_type": "stream",
     "text": [
      "The square of 5 is: 25\n"
     ]
    }
   ],
   "source": [
    "#Day  5\n",
    "# 2\n",
    "def calculate_square(n):\n",
    "    return n ** 2\n",
    "def main():\n",
    "    try:\n",
    "        n = int(input(\"Enter a positive integer: \"))\n",
    "        if n <= 0:\n",
    "            print(\"Error: Please enter a positive integer greater than 0.\")\n",
    "        else:\n",
    "            result = calculate_square(n)\n",
    "            print(f\"The square of {n} is: {result}\")\n",
    "    except ValueError:\n",
    "        print(\"Error: Invalid input. Please enter a valid positive integer.\")\n",
    "if __name__ == \"__main__\":\n",
    "    main()\n"
   ]
  },
  {
   "cell_type": "code",
   "execution_count": 1,
   "id": "f53be89a-4382-4e27-bc86-6eb99858d081",
   "metadata": {},
   "outputs": [
    {
     "name": "stdout",
     "output_type": "stream",
     "text": [
      "DataFrame:\n",
      "    Name  Age Department  Salary\n",
      "0   John   28         HR   45000\n",
      "1  Alice   34         IT   60000\n",
      "2    Bob   23  Marketing   35000\n",
      "3  Diana   29    Finance   50000\n"
     ]
    }
   ],
   "source": [
    "#Day 6\n",
    "import pandas as pd\n",
    "data = {\n",
    "    \"Name\": [\"John\", \"Alice\", \"Bob\", \"Diana\"],\n",
    "    \"Age\": [28, 34, 23, 29],\n",
    "    \"Department\": [\"HR\", \"IT\", \"Marketing\", \"Finance\"],\n",
    "    \"Salary\": [45000, 60000, 35000, 50000]\n",
    "}\n",
    "\n",
    "df = pd.DataFrame(data)\n",
    "\n",
    "# Display the DataFrame\n",
    "print(\"DataFrame:\")\n",
    "print(df)\n"
   ]
  },
  {
   "cell_type": "code",
   "execution_count": 1,
   "id": "3a2c54fe-68c2-4a20-bfc7-67cd5fe1a653",
   "metadata": {},
   "outputs": [
    {
     "name": "stdout",
     "output_type": "stream",
     "text": [
      "First 2 rows:\n",
      "     Name  Age Department  Salary\n",
      "0   John   28         HR   45000\n",
      "1  Alice   34         IT   60000\n",
      "\n",
      "DataFrame with Bonus:\n",
      "     Name  Age Department  Salary   Bonus\n",
      "0   John   28         HR   45000  4500.0\n",
      "1  Alice   34         IT   60000  6000.0\n",
      "2    Bob   23  Marketing   35000  3500.0\n",
      "3  Diana   29    Finance   50000  5000.0\n",
      "\n",
      "Average Salary: 47500.0\n",
      "\n",
      "Employees older than 25:\n",
      "     Name  Age Department  Salary   Bonus\n",
      "0   John   28         HR   45000  4500.0\n",
      "1  Alice   34         IT   60000  6000.0\n",
      "3  Diana   29    Finance   50000  5000.0\n"
     ]
    }
   ],
   "source": [
    "# Day 6 \n",
    "#2 \n",
    "import pandas as pd\n",
    "data = {\n",
    "    \"Name\": [\"John\", \"Alice\", \"Bob\", \"Diana\"],\n",
    "    \"Age\": [28, 34, 23, 29],\n",
    "    \"Department\": [\"HR\", \"IT\", \"Marketing\", \"Finance\"],\n",
    "    \"Salary\": [45000, 60000, 35000, 50000]\n",
    "}\n",
    "df = pd.DataFrame(data)\n",
    "print(\"First 2 rows:\\n\", df.head(2))\n",
    "df['Bonus'] = df['Salary'] * 0.10\n",
    "print(\"\\nDataFrame with Bonus:\\n\", df)\n",
    "print(\"\\nAverage Salary:\", df['Salary'].mean())\n",
    "print(\"\\nEmployees older than 25:\\n\", df[df['Age'] > 25])\n"
   ]
  },
  {
   "cell_type": "code",
   "execution_count": null,
   "id": "38696906-b275-44c0-8e09-01bc39de55a9",
   "metadata": {},
   "outputs": [],
   "source": []
  }
 ],
 "metadata": {
  "kernelspec": {
   "display_name": "Python [conda env:base] *",
   "language": "python",
   "name": "conda-base-py"
  },
  "language_info": {
   "codemirror_mode": {
    "name": "ipython",
    "version": 3
   },
   "file_extension": ".py",
   "mimetype": "text/x-python",
   "name": "python",
   "nbconvert_exporter": "python",
   "pygments_lexer": "ipython3",
   "version": "3.12.7"
  }
 },
 "nbformat": 4,
 "nbformat_minor": 5
}
