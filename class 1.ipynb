{
 "cells": [
  {
   "cell_type": "code",
   "execution_count": 1,
   "id": "2fa15aaa-4451-49fa-b25c-bb37cec937b3",
   "metadata": {},
   "outputs": [],
   "source": [
    "#dictionary"
   ]
  },
  {
   "cell_type": "code",
   "execution_count": 3,
   "id": "f82482da-f4c5-4a3c-b87f-46f5acb2a74f",
   "metadata": {},
   "outputs": [
    {
     "data": {
      "text/plain": [
       "{104: 4, 103: 7, 'B': 2}"
      ]
     },
     "execution_count": 3,
     "metadata": {},
     "output_type": "execute_result"
    }
   ],
   "source": [
    "d={104: 4,103:7,'B':2}\n",
    "d"
   ]
  },
  {
   "cell_type": "code",
   "execution_count": 5,
   "id": "db9040d0-b028-4129-962f-63dcd81f6a29",
   "metadata": {},
   "outputs": [
    {
     "data": {
      "text/plain": [
       "{104: 4, 103: 'India', 'B': 2}"
      ]
     },
     "execution_count": 5,
     "metadata": {},
     "output_type": "execute_result"
    }
   ],
   "source": [
    "d.update({103: 'India'})\n",
    "d"
   ]
  },
  {
   "cell_type": "code",
   "execution_count": 7,
   "id": "f72067d5-67c5-4120-a684-8715c47ddd59",
   "metadata": {},
   "outputs": [
    {
     "data": {
      "text/plain": [
       "4"
      ]
     },
     "execution_count": 7,
     "metadata": {},
     "output_type": "execute_result"
    }
   ],
   "source": [
    "d[104]"
   ]
  },
  {
   "cell_type": "code",
   "execution_count": 9,
   "id": "c2933b97-e760-4792-aa19-829ec778dfa6",
   "metadata": {},
   "outputs": [],
   "source": [
    "d[101]=200"
   ]
  },
  {
   "cell_type": "code",
   "execution_count": 13,
   "id": "17973423-1e29-4a2b-a43f-974819867502",
   "metadata": {},
   "outputs": [],
   "source": [
    "d.update({})"
   ]
  },
  {
   "cell_type": "code",
   "execution_count": 15,
   "id": "b7dda23a-6aa7-4952-9dba-f12686ea6173",
   "metadata": {},
   "outputs": [
    {
     "data": {
      "text/plain": [
       "{104: 4, 103: 'India', 'B': 2, 101: 200}"
      ]
     },
     "execution_count": 15,
     "metadata": {},
     "output_type": "execute_result"
    }
   ],
   "source": [
    "d"
   ]
  },
  {
   "cell_type": "code",
   "execution_count": 17,
   "id": "a18ea904-4ceb-4157-b8a6-42c74318881e",
   "metadata": {},
   "outputs": [],
   "source": [
    "del d[104]"
   ]
  },
  {
   "cell_type": "code",
   "execution_count": 19,
   "id": "db5ebb47-5d65-41f1-b3f2-afe229caf60b",
   "metadata": {},
   "outputs": [
    {
     "data": {
      "text/plain": [
       "{103: 'India', 'B': 2, 101: 200}"
      ]
     },
     "execution_count": 19,
     "metadata": {},
     "output_type": "execute_result"
    }
   ],
   "source": [
    "d"
   ]
  },
  {
   "cell_type": "code",
   "execution_count": 21,
   "id": "651bdf49-bfcb-4b01-b8cd-675872dc2a26",
   "metadata": {},
   "outputs": [],
   "source": [
    "d[104]= [200,3000,4000,5000]"
   ]
  },
  {
   "cell_type": "code",
   "execution_count": 23,
   "id": "7bf12cd4-9002-4043-828b-685ccfaec0d0",
   "metadata": {},
   "outputs": [
    {
     "data": {
      "text/plain": [
       "{103: 'India', 'B': 2, 101: 200, 104: [200, 3000, 4000, 5000]}"
      ]
     },
     "execution_count": 23,
     "metadata": {},
     "output_type": "execute_result"
    }
   ],
   "source": [
    "d"
   ]
  },
  {
   "cell_type": "code",
   "execution_count": 25,
   "id": "66232dc7-1f77-485c-a2b9-ff96de7c8191",
   "metadata": {},
   "outputs": [
    {
     "data": {
      "text/plain": [
       "dict"
      ]
     },
     "execution_count": 25,
     "metadata": {},
     "output_type": "execute_result"
    }
   ],
   "source": [
    "type(d)"
   ]
  },
  {
   "cell_type": "code",
   "execution_count": 27,
   "id": "937d8b15-4394-4d18-999c-d7c696447594",
   "metadata": {},
   "outputs": [
    {
     "data": {
      "text/plain": [
       "str"
      ]
     },
     "execution_count": 27,
     "metadata": {},
     "output_type": "execute_result"
    }
   ],
   "source": [
    "type(d[103])"
   ]
  },
  {
   "cell_type": "code",
   "execution_count": 29,
   "id": "72831e7d-5f6c-44f0-a3ea-189ebef6a9fc",
   "metadata": {},
   "outputs": [],
   "source": [
    "a='india'"
   ]
  },
  {
   "cell_type": "code",
   "execution_count": 31,
   "id": "8b8348e3-8106-4bef-b80a-ad10128c934d",
   "metadata": {},
   "outputs": [
    {
     "data": {
      "text/plain": [
       "'india'"
      ]
     },
     "execution_count": 31,
     "metadata": {},
     "output_type": "execute_result"
    }
   ],
   "source": [
    "a"
   ]
  },
  {
   "cell_type": "code",
   "execution_count": 35,
   "id": "54380a18-8681-4ada-9c59-c7329b62c221",
   "metadata": {},
   "outputs": [
    {
     "data": {
      "text/plain": [
       "'INDIA'"
      ]
     },
     "execution_count": 35,
     "metadata": {},
     "output_type": "execute_result"
    }
   ],
   "source": [
    "a.upper()"
   ]
  },
  {
   "cell_type": "code",
   "execution_count": 37,
   "id": "09ea31bd-6809-4ab7-88c9-f4c2e92b435f",
   "metadata": {},
   "outputs": [],
   "source": [
    "d[101]={50:[7,8,9,10],'apple':(20,10,70,[90.100,270])}"
   ]
  },
  {
   "cell_type": "code",
   "execution_count": 39,
   "id": "9feedf41-bf40-485d-b5de-dc7aa22410af",
   "metadata": {},
   "outputs": [
    {
     "data": {
      "text/plain": [
       "{103: 'India',\n",
       " 'B': 2,\n",
       " 101: {50: [7, 8, 9, 10], 'apple': (20, 10, 70, [90.1, 270])},\n",
       " 104: [200, 3000, 4000, 5000]}"
      ]
     },
     "execution_count": 39,
     "metadata": {},
     "output_type": "execute_result"
    }
   ],
   "source": [
    "d"
   ]
  },
  {
   "cell_type": "code",
   "execution_count": 41,
   "id": "76654938-b402-4f1e-b751-570c7753e0e1",
   "metadata": {},
   "outputs": [],
   "source": [
    "d[101]={'a':{30,50,70},'b':(100,5000,7000,9000), 'c':['k',{'L':[11,22],'M':(77,88)}, 'N']}"
   ]
  },
  {
   "cell_type": "code",
   "execution_count": 43,
   "id": "c49f2e4d-78a2-4d7b-afaa-a2b7813338a8",
   "metadata": {},
   "outputs": [
    {
     "data": {
      "text/plain": [
       "{103: 'India',\n",
       " 'B': 2,\n",
       " 101: {'a': {30, 50, 70},\n",
       "  'b': (100, 5000, 7000, 9000),\n",
       "  'c': ['k', {'L': [11, 22], 'M': (77, 88)}, 'N']},\n",
       " 104: [200, 3000, 4000, 5000]}"
      ]
     },
     "execution_count": 43,
     "metadata": {},
     "output_type": "execute_result"
    }
   ],
   "source": [
    "d"
   ]
  },
  {
   "cell_type": "code",
   "execution_count": 45,
   "id": "676db2dd-63c2-4352-88e2-ee72f22dd96a",
   "metadata": {},
   "outputs": [
    {
     "data": {
      "text/plain": [
       "'India'"
      ]
     },
     "execution_count": 45,
     "metadata": {},
     "output_type": "execute_result"
    }
   ],
   "source": [
    "d[103]"
   ]
  },
  {
   "cell_type": "code",
   "execution_count": 47,
   "id": "2a1b7750-9e61-4090-b85e-f62e133c1e98",
   "metadata": {},
   "outputs": [
    {
     "data": {
      "text/plain": [
       "4000"
      ]
     },
     "execution_count": 47,
     "metadata": {},
     "output_type": "execute_result"
    }
   ],
   "source": [
    "d[104][2]"
   ]
  },
  {
   "cell_type": "code",
   "execution_count": null,
   "id": "c829a6a5-0dc1-4e24-b3e9-b211eeb67a2c",
   "metadata": {},
   "outputs": [],
   "source": []
  }
 ],
 "metadata": {
  "kernelspec": {
   "display_name": "Python [conda env:base] *",
   "language": "python",
   "name": "conda-base-py"
  },
  "language_info": {
   "codemirror_mode": {
    "name": "ipython",
    "version": 3
   },
   "file_extension": ".py",
   "mimetype": "text/x-python",
   "name": "python",
   "nbconvert_exporter": "python",
   "pygments_lexer": "ipython3",
   "version": "3.12.7"
  }
 },
 "nbformat": 4,
 "nbformat_minor": 5
}
